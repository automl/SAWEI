{
 "cells": [
  {
   "cell_type": "code",
   "execution_count": 7,
   "metadata": {},
   "outputs": [],
   "source": [
    "import numpy as np\n",
    "\n",
    "n_actions = 10\n",
    "\n",
    "prototype = [(0, 0.3), (0.4, 0.6), (0.2, 0.1)]\n",
    "\n",
    "prototype = np.array(prototype)\n",
    "\n",
    "assert np.isclose(np.sum(prototype[:, 1]), 1)\n",
    "\n",
    "actions = prototype[:, 0]\n",
    "proportions = prototype[:, 1]\n",
    "repeats = (proportions * n_actions).astype(int)\n",
    "schedule = np.repeat(actions, repeats)\n",
    "\n",
    "assert len(schedule) == n_actions"
   ]
  }
 ],
 "metadata": {
  "kernelspec": {
   "display_name": "dacbo",
   "language": "python",
   "name": "python3"
  },
  "language_info": {
   "codemirror_mode": {
    "name": "ipython",
    "version": 3
   },
   "file_extension": ".py",
   "mimetype": "text/x-python",
   "name": "python",
   "nbconvert_exporter": "python",
   "pygments_lexer": "ipython3",
   "version": "3.10.4"
  },
  "orig_nbformat": 4,
  "vscode": {
   "interpreter": {
    "hash": "876ed21fdf8ba8f79bc25003588a11f64d3b3845d14cc4895af132a2cdc3c4f7"
   }
  }
 },
 "nbformat": 4,
 "nbformat_minor": 2
}
